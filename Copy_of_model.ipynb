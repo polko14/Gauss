{
  "nbformat": 4,
  "nbformat_minor": 0,
  "metadata": {
    "colab": {
      "name": "Copy of model.ipynb",
      "version": "0.3.2",
      "provenance": [],
      "toc_visible": true,
      "include_colab_link": true
    },
    "language_info": {
      "codemirror_mode": {
        "name": "ipython",
        "version": 3
      },
      "file_extension": ".py",
      "mimetype": "text/x-python",
      "name": "python",
      "nbconvert_exporter": "python",
      "pygments_lexer": "ipython3",
      "version": "3.6.8"
    },
    "kernelspec": {
      "name": "python3",
      "display_name": "Python 3"
    },
    "accelerator": "GPU"
  },
  "cells": [
    {
      "cell_type": "markdown",
      "metadata": {
        "id": "view-in-github",
        "colab_type": "text"
      },
      "source": [
        "<a href=\"https://colab.research.google.com/github/polko14/Gauss/blob/master/Copy_of_model.ipynb\" target=\"_parent\"><img src=\"https://colab.research.google.com/assets/colab-badge.svg\" alt=\"Open In Colab\"/></a>"
      ]
    },
    {
      "cell_type": "markdown",
      "metadata": {
        "id": "kP7he45N2HRe",
        "colab_type": "text"
      },
      "source": [
        "## Import necessary modules"
      ]
    },
    {
      "cell_type": "code",
      "metadata": {
        "id": "H28CM2rV2HRj",
        "colab_type": "code",
        "colab": {}
      },
      "source": [
        "import numpy as np\n",
        "import pandas as pd\n",
        "import sklearn\n",
        "import keras\n",
        "import seaborn\n",
        "import matplotlib.pyplot as plt\n",
        "import tensorflow\n",
        "import random\n",
        "from sklearn.model_selection import train_test_split\n",
        "from sklearn.preprocessing import StandardScaler\n",
        "import matplotlib.pyplot as plt"
      ],
      "execution_count": 0,
      "outputs": []
    },
    {
      "cell_type": "code",
      "metadata": {
        "id": "LzEZclYs2HRy",
        "colab_type": "code",
        "outputId": "3ced1fad-0b3c-42b2-f98d-da147b513501",
        "colab": {
          "base_uri": "https://localhost:8080/",
          "height": 306
        }
      },
      "source": [
        "url = 'https://raw.githubusercontent.com/Dalthirr/NeuralNetworks/master/Churn_Modelling.csv'\n",
        "df=pd.read_csv(url) #Pobieranie danych\n",
        "df = df.drop([\"CustomerId\", \"Surname\", \"RowNumber\"],\n",
        "        axis=1)\n",
        "df = pd.concat([df, pd.get_dummies(df[[\"Gender\", \"Geography\"]], drop_first=True)],\n",
        "               sort=False, axis=1).drop(df[[\"Gender\", \"Geography\"]], axis=1)\n",
        "df.info()"
      ],
      "execution_count": 0,
      "outputs": [
        {
          "output_type": "stream",
          "text": [
            "<class 'pandas.core.frame.DataFrame'>\n",
            "RangeIndex: 10000 entries, 0 to 9999\n",
            "Data columns (total 12 columns):\n",
            "CreditScore          10000 non-null int64\n",
            "Age                  10000 non-null int64\n",
            "Tenure               10000 non-null int64\n",
            "Balance              10000 non-null float64\n",
            "NumOfProducts        10000 non-null int64\n",
            "HasCrCard            10000 non-null int64\n",
            "IsActiveMember       10000 non-null int64\n",
            "EstimatedSalary      10000 non-null float64\n",
            "Exited               10000 non-null int64\n",
            "Gender_Male          10000 non-null uint8\n",
            "Geography_Germany    10000 non-null uint8\n",
            "Geography_Spain      10000 non-null uint8\n",
            "dtypes: float64(2), int64(7), uint8(3)\n",
            "memory usage: 732.5 KB\n"
          ],
          "name": "stdout"
        }
      ]
    },
    {
      "cell_type": "code",
      "metadata": {
        "id": "91OO5oBWB1xE",
        "colab_type": "code",
        "colab": {}
      },
      "source": [
        "X=(df.drop(['Exited'], axis=1))\n",
        "y=(df.Exited)\n",
        "X_train, X_test, y_train, y_test = train_test_split(X, y, test_size=0.33, random_state=42,stratify=y)\n",
        "\n",
        "scaler=StandardScaler().fit(X_train)\n",
        "X_train = scaler.transform(X_train)\n",
        "\n",
        "X_test = scaler.transform(X_test)\n",
        "\n",
        "\n",
        "\n"
      ],
      "execution_count": 0,
      "outputs": []
    },
    {
      "cell_type": "code",
      "metadata": {
        "id": "5uOxdI7HIbXc",
        "colab_type": "code",
        "outputId": "27d1610b-8e73-48f8-d541-0b50d6100eef",
        "colab": {
          "base_uri": "https://localhost:8080/",
          "height": 170
        }
      },
      "source": [
        "# Import `Sequential` from `keras.models`\n",
        "from keras.models import Sequential\n",
        "\n",
        "# Import `Dense` from `keras.layers`\n",
        "from keras.layers import Dense\n",
        "\n",
        "# Creating Model, I will build simple networt using Sequential.\n",
        "model=Sequential()\n",
        "# Add an input layer shape depends on shape of X. We have 11 columns in X.\n",
        "model.add(Dense(11, activation='relu', input_shape=(11,)))\n",
        "\n",
        "# Add one hidden layer \n",
        "model.add(Dense(34, activation='relu'))\n",
        "\n",
        "\n",
        "\n",
        "# Add an output layer \n",
        "model.add(Dense(1, activation='sigmoid'))\n",
        "\n",
        "\n",
        "model.compile(loss='binary_crossentropy',\n",
        "              optimizer='adam',\n",
        "              metrics=['accuracy'])\n",
        "                   \n",
        "model.fit(X_train, y_train,epochs=3, batch_size=1, verbose=1,validation_data=(X_test,y_test))\n",
        "\n",
        "model.evaluate(X_test,y_test)\n",
        "\n",
        "#model.predict(X_test)"
      ],
      "execution_count": 0,
      "outputs": [
        {
          "output_type": "stream",
          "text": [
            "Train on 6700 samples, validate on 3300 samples\n",
            "Epoch 1/3\n",
            "6700/6700 [==============================] - 22s 3ms/step - loss: 0.4372 - acc: 0.8115 - val_loss: 0.3800 - val_acc: 0.8394\n",
            "Epoch 2/3\n",
            "6700/6700 [==============================] - 22s 3ms/step - loss: 0.3636 - acc: 0.8496 - val_loss: 0.3527 - val_acc: 0.8524\n",
            "Epoch 3/3\n",
            "6700/6700 [==============================] - 21s 3ms/step - loss: 0.3503 - acc: 0.8567 - val_loss: 0.3504 - val_acc: 0.8536\n",
            "3300/3300 [==============================] - 0s 31us/step\n"
          ],
          "name": "stdout"
        },
        {
          "output_type": "execute_result",
          "data": {
            "text/plain": [
              "[0.3504163798780152, 0.8536363636363636]"
            ]
          },
          "metadata": {
            "tags": []
          },
          "execution_count": 8
        }
      ]
    },
    {
      "cell_type": "code",
      "metadata": {
        "id": "j-919pgJYlpB",
        "colab_type": "code",
        "outputId": "b932e5eb-4b0b-45db-c8de-444d6af1e325",
        "colab": {
          "base_uri": "https://localhost:8080/",
          "height": 51
        }
      },
      "source": [
        "lista = []\n",
        "for i in range(len(df.values)):\n",
        "  if (df['Exited'].values)[i]==0 and random.random()>0.25:\n",
        "    lista.append(i)\n",
        "print(len(lista))\n",
        "newdf = df.drop(lista)\n",
        "X=(df.drop(['Exited'], axis=1)) #wyrzucamy exited\n",
        "X = (X-X.mean())/X.std()\n",
        "y=(df.Exited)\n",
        "X_train, X_test, y_train, y_test = train_test_split(X, y, test_size=0.33, random_state=42)\n",
        "print(len(y),(y.sum()),len(X))\n",
        "scaler=StandardScaler().fit(X_train)\n",
        "X_train = scaler.transform(X_train)\n",
        "\n",
        "X_test = scaler.transform(X_test)\n"
      ],
      "execution_count": 0,
      "outputs": [
        {
          "output_type": "stream",
          "text": [
            "5993\n",
            "10000 2037 10000\n"
          ],
          "name": "stdout"
        }
      ]
    },
    {
      "cell_type": "code",
      "metadata": {
        "id": "R0a9rk_zYmTx",
        "colab_type": "code",
        "colab": {}
      },
      "source": [
        "#half-half\n",
        "nX=(newdf.drop(['Exited'], axis=1)) #wyrzucamy exited\n",
        "nX = (nX-nX.mean())/nX.std()\n",
        "ny=(newdf.Exited)\n",
        "nX_train, nX_test, ny_train, ny_test = train_test_split(nX, ny, test_size=0.3, random_state=42 )\n",
        "\n",
        "nscaler=StandardScaler().fit(nX_train)\n",
        "nX_train = scaler.transform(nX_train)\n",
        "nX_test = scaler.transform(nX_test)\n"
      ],
      "execution_count": 0,
      "outputs": []
    },
    {
      "cell_type": "code",
      "metadata": {
        "id": "mVSwLtL8YsgO",
        "colab_type": "code",
        "outputId": "c7658f14-547b-4e63-e484-957b50590c97",
        "colab": {
          "base_uri": "https://localhost:8080/",
          "height": 697
        }
      },
      "source": [
        "model=Sequential()\n",
        "# Add an input layer shape depends on shape of X. We have 11 columns in X.\n",
        "model.add(Dense(12, activation='relu', input_shape=(11,)))\n",
        "\n",
        "# Add one hidden layer \n",
        "model.add(Dense(20, activation='tanh'))\n",
        "\n",
        "\n",
        "# Add an output layer \n",
        "model.add(Dense(1, activation='sigmoid'))\n",
        "\n",
        "\n",
        "model.compile(loss='binary_crossentropy',\n",
        "              optimizer='adam',\n",
        "              metrics=['accuracy'])\n",
        "                   \n",
        "history = model.fit(nX_train, ny_train,epochs=20, batch_size=10, verbose=1)\n"
      ],
      "execution_count": 0,
      "outputs": [
        {
          "output_type": "stream",
          "text": [
            "Epoch 1/20\n",
            "2804/2804 [==============================] - 1s 395us/step - loss: 0.6454 - acc: 0.6255\n",
            "Epoch 2/20\n",
            "2804/2804 [==============================] - 1s 312us/step - loss: 0.5770 - acc: 0.7011\n",
            "Epoch 3/20\n",
            "2804/2804 [==============================] - 1s 294us/step - loss: 0.5574 - acc: 0.7133\n",
            "Epoch 4/20\n",
            "2804/2804 [==============================] - 1s 290us/step - loss: 0.5431 - acc: 0.7243\n",
            "Epoch 5/20\n",
            "2804/2804 [==============================] - 1s 288us/step - loss: 0.5326 - acc: 0.7318\n",
            "Epoch 6/20\n",
            "2804/2804 [==============================] - 1s 297us/step - loss: 0.5220 - acc: 0.7382\n",
            "Epoch 7/20\n",
            "2804/2804 [==============================] - 1s 285us/step - loss: 0.5126 - acc: 0.7425\n",
            "Epoch 8/20\n",
            "2804/2804 [==============================] - 1s 291us/step - loss: 0.5031 - acc: 0.7532\n",
            "Epoch 9/20\n",
            "2804/2804 [==============================] - 1s 289us/step - loss: 0.4932 - acc: 0.7596\n",
            "Epoch 10/20\n",
            "2804/2804 [==============================] - 1s 286us/step - loss: 0.4853 - acc: 0.7675\n",
            "Epoch 11/20\n",
            "2804/2804 [==============================] - 1s 287us/step - loss: 0.4772 - acc: 0.7660\n",
            "Epoch 12/20\n",
            "2804/2804 [==============================] - 1s 291us/step - loss: 0.4709 - acc: 0.7671\n",
            "Epoch 13/20\n",
            "2804/2804 [==============================] - 1s 295us/step - loss: 0.4656 - acc: 0.7732\n",
            "Epoch 14/20\n",
            "2804/2804 [==============================] - 1s 290us/step - loss: 0.4612 - acc: 0.7771\n",
            "Epoch 15/20\n",
            "2804/2804 [==============================] - 1s 287us/step - loss: 0.4568 - acc: 0.7821\n",
            "Epoch 16/20\n",
            "2804/2804 [==============================] - 1s 288us/step - loss: 0.4545 - acc: 0.7757\n",
            "Epoch 17/20\n",
            "2804/2804 [==============================] - 1s 288us/step - loss: 0.4507 - acc: 0.7842\n",
            "Epoch 18/20\n",
            "2804/2804 [==============================] - 1s 287us/step - loss: 0.4480 - acc: 0.7917\n",
            "Epoch 19/20\n",
            "2804/2804 [==============================] - 1s 284us/step - loss: 0.4463 - acc: 0.7953\n",
            "Epoch 20/20\n",
            "2804/2804 [==============================] - 1s 287us/step - loss: 0.4431 - acc: 0.7928\n"
          ],
          "name": "stdout"
        }
      ]
    },
    {
      "cell_type": "code",
      "metadata": {
        "id": "8RVSVEoPYupA",
        "colab_type": "code",
        "outputId": "a38b92e4-febd-4ff6-b63d-934c8704da3e",
        "colab": {
          "base_uri": "https://localhost:8080/",
          "height": 34
        }
      },
      "source": [
        "ynew = model.predict_classes(X_test)\n",
        "# show the inputs and predicted outputs\n",
        "counter = 0\n",
        "for i in range(len(ynew)):\n",
        "  if y_test.values[i] == ynew[i]:\n",
        "    counter += 1\n",
        "print(counter/len(ynew))"
      ],
      "execution_count": 0,
      "outputs": [
        {
          "output_type": "stream",
          "text": [
            "0.6733333333333333\n"
          ],
          "name": "stdout"
        }
      ]
    },
    {
      "cell_type": "code",
      "metadata": {
        "id": "jNvQpteOYxed",
        "colab_type": "code",
        "outputId": "ff72c743-0309-4dcb-cf0f-8cc3f79fa832",
        "colab": {
          "base_uri": "https://localhost:8080/",
          "height": 378
        }
      },
      "source": [
        "\n",
        "plt.style.use('ggplot')\n",
        "plt.figure(figsize = (12,6))\n",
        "plt.plot(history.history['loss'], label = \"loss\")\n",
        "plt.plot(history.history['acc'], label = \"acc\")\n",
        "plt.legend()\n",
        "plt.show()"
      ],
      "execution_count": 0,
      "outputs": [
        {
          "output_type": "display_data",
          "data": {
            "image/png": "[encoded data removed]",
            "text/plain": [
              "<Figure size 864x432 with 1 Axes>"
            ]
          },
          "metadata": {
            "tags": []
          }
        }
      ]
    },
    {
      "cell_type": "code",
      "metadata": {
        "id": "CMiaSicmY742",
        "colab_type": "code",
        "colab": {}
      },
      "source": [
        ""
      ],
      "execution_count": 0,
      "outputs": []
    }
  ]
}